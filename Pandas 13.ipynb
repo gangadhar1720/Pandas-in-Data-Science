{
 "cells": [
  {
   "cell_type": "markdown",
   "id": "573c4b02-bc92-4566-9ebb-f3f1ea368503",
   "metadata": {},
   "source": [
    "# understanding pandas Data structure"
   ]
  },
  {
   "cell_type": "code",
   "execution_count": 3,
   "id": "46ac68eb-0c75-4d49-9c2f-2b0088371368",
   "metadata": {},
   "outputs": [],
   "source": [
    "# importing pandas library\n",
    "import pandas as pd"
   ]
  },
  {
   "cell_type": "markdown",
   "id": "992a9642-bc8a-4f71-b3cf-055542665703",
   "metadata": {},
   "source": [
    "# Series"
   ]
  },
  {
   "cell_type": "markdown",
   "id": "2d532e12-5f10-4fb9-ad37-2ea0ba1a8367",
   "metadata": {},
   "source": [
    "Series  : A Series is a one-dimensional array-like object that can hold any data type (integer, string, float, etc.). It has an index that labels the data.\n",
    "\n",
    "Creating a Series"
   ]
  },
  {
   "cell_type": "code",
   "execution_count": 8,
   "id": "d23f0028-d672-4348-bbdf-374712367f93",
   "metadata": {},
   "outputs": [
    {
     "name": "stdout",
     "output_type": "stream",
     "text": [
      "Series from list:\n",
      "0    10\n",
      "1    20\n",
      "2    30\n",
      "3    40\n",
      "dtype: int64\n",
      "Series from dictionary:\n",
      "a    1\n",
      "b    2\n",
      "c    3\n",
      "dtype: int64\n"
     ]
    }
   ],
   "source": [
    "# From a list\n",
    "s1 = pd.Series([10, 20, 30, 40])\n",
    "\n",
    "# From a dictionary\n",
    "s2 = pd.Series({'a': 1, 'b': 2, 'c': 3})\n",
    "\n",
    "print(\"Series from list:\")\n",
    "print(s1)\n",
    "print(\"Series from dictionary:\")\n",
    "print(s2)"
   ]
  },
  {
   "cell_type": "markdown",
   "id": "cba382a9-abc2-4c86-be27-db198a85cbac",
   "metadata": {},
   "source": [
    "# Dataframe"
   ]
  },
  {
   "cell_type": "markdown",
   "id": "46986dd5-9caa-4556-bca1-08a1cc805aa0",
   "metadata": {},
   "source": [
    "DataFrame : A DataFrame is a two-dimensional, size-mutable, and potentially heterogeneous tabular data structure with labeled axes (rows and columns).\n",
    "\n",
    "Creating a DataFrame"
   ]
  },
  {
   "cell_type": "code",
   "execution_count": 63,
   "id": "fbaae70a-92ca-4e2b-807c-5686ec7917b6",
   "metadata": {},
   "outputs": [
    {
     "name": "stdout",
     "output_type": "stream",
     "text": [
      "DataFrame from dictionary of lists:\n",
      "      Name  Age         City\n",
      "0    Alice   25     New York\n",
      "1      Bob   30  Los Angeles\n",
      "2  Charlie   35      Chicago\n",
      "3   Dervin   25        Tokyo\n",
      "4  Michael   35        Delhi\n",
      "DataFrame from list of dictionaries:\n",
      "      Name  Age         City\n",
      "0    Alice   25     New York\n",
      "1      Bob   30  Los Angeles\n",
      "2  Charlie   35      Chicago\n"
     ]
    }
   ],
   "source": [
    "# From a dictionary of lists\n",
    "data = {\n",
    "    'Name': ['Alice', 'Bob', 'Charlie','Dervin','Michael'],\n",
    "    'Age': [25, 30, 35,25,35],\n",
    "    'City': ['New York', 'Los Angeles', 'Chicago','Tokyo','Delhi']\n",
    "}\n",
    "df = pd.DataFrame(data)\n",
    "\n",
    "# From a list of dictionaries\n",
    "data_1 = [\n",
    "    {'Name': 'Alice', 'Age': 25, 'City': 'New York'},\n",
    "    {'Name': 'Bob', 'Age': 30, 'City': 'Los Angeles'},\n",
    "    {'Name': 'Charlie', 'Age': 35, 'City': 'Chicago'}\n",
    "]\n",
    "df_1 = pd.DataFrame(data_1)\n",
    "\n",
    "print(\"DataFrame from dictionary of lists:\")\n",
    "print(df)\n",
    "print(\"DataFrame from list of dictionaries:\")\n",
    "print(df_1)"
   ]
  },
  {
   "cell_type": "markdown",
   "id": "89d61cf3-676e-4924-a365-5263febf167c",
   "metadata": {},
   "source": [
    "# Viewing Data"
   ]
  },
  {
   "cell_type": "code",
   "execution_count": 26,
   "id": "9af44e84-7f08-45b0-951b-83620a817a3a",
   "metadata": {},
   "outputs": [
    {
     "name": "stdout",
     "output_type": "stream",
     "text": [
      "      Name  Age         City\n",
      "0    Alice   25     New York\n",
      "1      Bob   30  Los Angeles\n",
      "2  Charlie   35      Chicago\n",
      "      Name  Age     City\n",
      "2  Charlie   35  Chicago\n",
      "3   Dervin   25    Tokyo\n",
      "4  Michael   35    Delhi\n"
     ]
    }
   ],
   "source": [
    "# viewing first few rows and last few rows\n",
    "print(df.head(3))     # viewing first 3 rows\n",
    "print(df.tail(3))     # viewing last 3 rows"
   ]
  },
  {
   "cell_type": "markdown",
   "id": "034bcbe1-0cff-469c-9b35-8d1c43567c81",
   "metadata": {},
   "source": [
    " # selecting data, filtering rows, and modifying data."
   ]
  },
  {
   "cell_type": "code",
   "execution_count": 32,
   "id": "3fed9c04-e5dc-4255-b7f0-3fa06ce85253",
   "metadata": {},
   "outputs": [
    {
     "name": "stdout",
     "output_type": "stream",
     "text": [
      "0      Alice\n",
      "1        Bob\n",
      "2    Charlie\n",
      "3     Dervin\n",
      "4    Michael\n",
      "Name: Name, dtype: object\n",
      "      Name         City\n",
      "0    Alice     New York\n",
      "1      Bob  Los Angeles\n",
      "2  Charlie      Chicago\n",
      "3   Dervin        Tokyo\n",
      "4  Michael        Delhi\n",
      "Name            Bob\n",
      "Age              30\n",
      "City    Los Angeles\n",
      "Name: 1, dtype: object\n",
      "Age graeter than 25\n",
      "      Name  Age         City\n",
      "1      Bob   30  Los Angeles\n",
      "2  Charlie   35      Chicago\n",
      "4  Michael   35        Delhi\n"
     ]
    }
   ],
   "source": [
    "# Selecting a column\n",
    "print(df['Name'])\n",
    "#Selecting multiple columns\n",
    "print(df[['Name','City']])\n",
    "#Selecting rows by index\n",
    "print(df.iloc[1])\n",
    "# selecting row by condition\n",
    "print(\"Age graeter than 25\")\n",
    "print(df[df['Age']>25])"
   ]
  },
  {
   "cell_type": "markdown",
   "id": "4c9138fa-ece3-45d9-a0e1-dd8c767e1da7",
   "metadata": {},
   "source": [
    "# Data manipulation"
   ]
  },
  {
   "cell_type": "code",
   "execution_count": 65,
   "id": "96426fe4-20cf-4cba-91c8-adb27746357b",
   "metadata": {},
   "outputs": [
    {
     "name": "stdout",
     "output_type": "stream",
     "text": [
      "      Name  Age         City  Salary\n",
      "0    Alice   25     New York  100000\n",
      "1      Bob   30  Los Angeles  200000\n",
      "2  Charlie   35      Chicago   50000\n",
      "3   Dervin   25        Tokyo   25000\n",
      "4  Michael   35        Delhi   35000\n"
     ]
    }
   ],
   "source": [
    "#Adding new column\n",
    "df['Salary']=[100000,200000,50000,25000,35000]\n",
    "print(df)"
   ]
  },
  {
   "cell_type": "code",
   "execution_count": 67,
   "id": "a37ad716-62a2-4f3b-88a0-2cdfba5aa090",
   "metadata": {},
   "outputs": [
    {
     "name": "stdout",
     "output_type": "stream",
     "text": [
      "      Name  Age  Salary\n",
      "0    Alice   25  100000\n",
      "1      Bob   30  200000\n",
      "2  Charlie   35   50000\n",
      "3   Dervin   25   25000\n",
      "4  Michael   35   35000\n"
     ]
    }
   ],
   "source": [
    "#Drop a Column:\n",
    "df.drop('City', axis=1,inplace=True)\n",
    "print(df)"
   ]
  },
  {
   "cell_type": "code",
   "execution_count": 69,
   "id": "3aec1b4c-a1a0-4cc0-a486-9df65fa5ecfe",
   "metadata": {},
   "outputs": [
    {
     "name": "stdout",
     "output_type": "stream",
     "text": [
      "Sorted Data by salary\n",
      "      Name  Age  Salary\n",
      "3   Dervin   25   25000\n",
      "4  Michael   35   35000\n",
      "2  Charlie   35   50000\n",
      "0    Alice   25  100000\n",
      "1      Bob   30  200000\n"
     ]
    }
   ],
   "source": [
    "#Sort Data:\n",
    "print(\"Sorted Data by salary\")\n",
    "print(df.sort_values(by='Salary'))  #Sorting data by salary"
   ]
  },
  {
   "cell_type": "markdown",
   "id": "cf398bc4-b0de-4ec7-bc62-e92a9ca06a07",
   "metadata": {},
   "source": [
    "# Reading a csv file"
   ]
  },
  {
   "cell_type": "code",
   "execution_count": 74,
   "id": "158111b5-756c-47cf-a1a9-1b46c4ce6b20",
   "metadata": {},
   "outputs": [
    {
     "name": "stdout",
     "output_type": "stream",
     "text": [
      "DataFrame from CSV file:\n",
      "   Pregnant  Glucose  Diastolic_BP  Skin_Fold  Serum_Insulin   BMI  \\\n",
      "0         6    148.0          72.0       35.0            NaN  33.6   \n",
      "1         1     85.0          66.0       29.0            NaN  26.6   \n",
      "2         8    183.0          64.0        NaN            NaN  23.3   \n",
      "3         1     89.0          66.0       23.0           94.0  28.1   \n",
      "4         0    137.0          40.0       35.0          168.0  43.1   \n",
      "\n",
      "   Diabetes_Pedigree  Age  Class  \n",
      "0              0.627   50      1  \n",
      "1              0.351   31      0  \n",
      "2              0.672   32      1  \n",
      "3              0.167   21      0  \n",
      "4              2.288   33      1  \n"
     ]
    }
   ],
   "source": [
    "df_csv = pd.read_csv('Diabetes Missing Data.csv')\n",
    "print(\"DataFrame from CSV file:\")\n",
    "print(df_csv.head())  # Display the first few rows"
   ]
  },
  {
   "cell_type": "markdown",
   "id": "8570cf46-2ae0-48c8-aec8-7d1036f007b3",
   "metadata": {},
   "source": [
    "# Handling Missing data"
   ]
  },
  {
   "cell_type": "code",
   "execution_count": 76,
   "id": "424ef595-3cf5-46fa-a2e4-17092f492ff6",
   "metadata": {},
   "outputs": [
    {
     "name": "stdout",
     "output_type": "stream",
     "text": [
      "\n",
      "Missing Data in each column:\n",
      "Pregnant               0\n",
      "Glucose                5\n",
      "Diastolic_BP          35\n",
      "Skin_Fold            227\n",
      "Serum_Insulin        374\n",
      "BMI                   11\n",
      "Diabetes_Pedigree      0\n",
      "Age                    0\n",
      "Class                  0\n",
      "dtype: int64\n"
     ]
    }
   ],
   "source": [
    "#Missing data in each columns\n",
    "print(\"\\nMissing Data in each column:\")\n",
    "print(df_csv.isnull().sum())"
   ]
  },
  {
   "cell_type": "code",
   "execution_count": 78,
   "id": "0d60dabd-359e-40fd-9b98-c4ec2fe71530",
   "metadata": {},
   "outputs": [
    {
     "name": "stdout",
     "output_type": "stream",
     "text": [
      "Tota Missing Data: \n",
      "652\n"
     ]
    }
   ],
   "source": [
    "#Total missing values\n",
    "print(\"Tota Missing Data: \")\n",
    "print(df_csv.isnull().sum().sum())"
   ]
  },
  {
   "cell_type": "markdown",
   "id": "12968f66-1599-4b3a-9f9b-2e97f82d572d",
   "metadata": {},
   "source": [
    "# Fill missing values "
   ]
  },
  {
   "cell_type": "code",
   "execution_count": 88,
   "id": "c582d13a-413a-4ec5-b717-f1191235a519",
   "metadata": {},
   "outputs": [
    {
     "name": "stdout",
     "output_type": "stream",
     "text": [
      "     Pregnant  Glucose  Diastolic_BP  Skin_Fold  Serum_Insulin   BMI  \\\n",
      "0           6    148.0          72.0       35.0            NaN  33.6   \n",
      "1           1     85.0          66.0       29.0            NaN  26.6   \n",
      "2           8    183.0          64.0        NaN            NaN  23.3   \n",
      "3           1     89.0          66.0       23.0           94.0  28.1   \n",
      "4           0    137.0          40.0       35.0          168.0  43.1   \n",
      "..        ...      ...           ...        ...            ...   ...   \n",
      "763        10    101.0          76.0       48.0          180.0  32.9   \n",
      "764         2    122.0          70.0       27.0            NaN  36.8   \n",
      "765         5    121.0          72.0       23.0          112.0  26.2   \n",
      "766         1    126.0          60.0        NaN            NaN  30.1   \n",
      "767         1     93.0          70.0       31.0            NaN  30.4   \n",
      "\n",
      "     Diabetes_Pedigree  Age  Class  \n",
      "0                0.627   50      1  \n",
      "1                0.351   31      0  \n",
      "2                0.672   32      1  \n",
      "3                0.167   21      0  \n",
      "4                2.288   33      1  \n",
      "..                 ...  ...    ...  \n",
      "763              0.171   63      0  \n",
      "764              0.340   27      0  \n",
      "765              0.245   30      0  \n",
      "766              0.349   47      1  \n",
      "767              0.315   23      0  \n",
      "\n",
      "[768 rows x 9 columns]\n"
     ]
    }
   ],
   "source": [
    "df_csv['Pregnant'].fillna(df_csv['Pregnant'].mean())\n",
    "df_csv['Age'].fillna('Unknown')\n",
    "df_csv['Glucose'].fillna(df_csv['Glucose'].mean()) \n",
    "print(df_csv)"
   ]
  },
  {
   "cell_type": "markdown",
   "id": "8d9546de-e6c1-4f71-8684-53d55849bb2a",
   "metadata": {},
   "source": [
    "# Remove duplicates"
   ]
  },
  {
   "cell_type": "code",
   "execution_count": 90,
   "id": "f6588185-2e22-474e-89fb-8b779fe9ba10",
   "metadata": {},
   "outputs": [
    {
     "name": "stdout",
     "output_type": "stream",
     "text": [
      "\n",
      "Removing Duplicates:\n",
      "DataFrame after removing duplicates:\n",
      "     Pregnant  Glucose  Diastolic_BP  Skin_Fold  Serum_Insulin   BMI  \\\n",
      "0           6    148.0          72.0       35.0            NaN  33.6   \n",
      "1           1     85.0          66.0       29.0            NaN  26.6   \n",
      "2           8    183.0          64.0        NaN            NaN  23.3   \n",
      "3           1     89.0          66.0       23.0           94.0  28.1   \n",
      "4           0    137.0          40.0       35.0          168.0  43.1   \n",
      "..        ...      ...           ...        ...            ...   ...   \n",
      "763        10    101.0          76.0       48.0          180.0  32.9   \n",
      "764         2    122.0          70.0       27.0            NaN  36.8   \n",
      "765         5    121.0          72.0       23.0          112.0  26.2   \n",
      "766         1    126.0          60.0        NaN            NaN  30.1   \n",
      "767         1     93.0          70.0       31.0            NaN  30.4   \n",
      "\n",
      "     Diabetes_Pedigree  Age  Class  \n",
      "0                0.627   50      1  \n",
      "1                0.351   31      0  \n",
      "2                0.672   32      1  \n",
      "3                0.167   21      0  \n",
      "4                2.288   33      1  \n",
      "..                 ...  ...    ...  \n",
      "763              0.171   63      0  \n",
      "764              0.340   27      0  \n",
      "765              0.245   30      0  \n",
      "766              0.349   47      1  \n",
      "767              0.315   23      0  \n",
      "\n",
      "[768 rows x 9 columns]\n"
     ]
    }
   ],
   "source": [
    "# Remove Duplicates\n",
    "print(\"\\nRemoving Duplicates:\")\n",
    "df_csv = df_csv.drop_duplicates()\n",
    "print(\"DataFrame after removing duplicates:\")\n",
    "print(df_csv)"
   ]
  },
  {
   "cell_type": "markdown",
   "id": "f1d2fee5-ed0b-4253-818a-7a6f090ae799",
   "metadata": {},
   "source": [
    "# Converting Datatypes"
   ]
  },
  {
   "cell_type": "code",
   "execution_count": 92,
   "id": "b037ba99-ba7f-406d-a239-b96190bb031b",
   "metadata": {},
   "outputs": [
    {
     "name": "stdout",
     "output_type": "stream",
     "text": [
      "DataFrame after type conversion:\n",
      "Pregnant             float64\n",
      "Glucose              float64\n",
      "Diastolic_BP         float64\n",
      "Skin_Fold            float64\n",
      "Serum_Insulin        float64\n",
      "BMI                  float64\n",
      "Diabetes_Pedigree    float64\n",
      "Age                    int32\n",
      "Class                  int64\n",
      "dtype: object\n"
     ]
    }
   ],
   "source": [
    "df_csv['Age'] = df_csv['Age'].astype(int)\n",
    "df_csv['Pregnant'] = df_csv['Pregnant'].astype(float)\n",
    "\n",
    "print(\"DataFrame after type conversion:\")\n",
    "print(df_csv.dtypes)"
   ]
  },
  {
   "cell_type": "markdown",
   "id": "b504205e-8351-47ef-aa04-aa8bc9731e15",
   "metadata": {},
   "source": [
    "# Data Transformation"
   ]
  },
  {
   "cell_type": "code",
   "execution_count": 96,
   "id": "5b0141a7-ad9a-4097-a45b-9be5a693d49b",
   "metadata": {},
   "outputs": [
    {
     "name": "stdout",
     "output_type": "stream",
     "text": [
      "\n",
      "Data Transformation:\n",
      "DataFrame with transformed data:\n",
      "     Pregnant  Glucose  Diastolic_BP  Skin_Fold  Serum_Insulin   BMI  \\\n",
      "0         6.0    148.0          72.0       35.0            NaN  33.6   \n",
      "1         1.0     85.0          66.0       29.0            NaN  26.6   \n",
      "2         8.0    183.0          64.0        NaN            NaN  23.3   \n",
      "3         1.0     89.0          66.0       23.0           94.0  28.1   \n",
      "4         0.0    137.0          40.0       35.0          168.0  43.1   \n",
      "..        ...      ...           ...        ...            ...   ...   \n",
      "763      10.0    101.0          76.0       48.0          180.0  32.9   \n",
      "764       2.0    122.0          70.0       27.0            NaN  36.8   \n",
      "765       5.0    121.0          72.0       23.0          112.0  26.2   \n",
      "766       1.0    126.0          60.0        NaN            NaN  30.1   \n",
      "767       1.0     93.0          70.0       31.0            NaN  30.4   \n",
      "\n",
      "     Diabetes_Pedigree  Age  Class  Glucose_2  \n",
      "0                0.627   50      1      296.0  \n",
      "1                0.351   31      0      170.0  \n",
      "2                0.672   32      1      366.0  \n",
      "3                0.167   21      0      178.0  \n",
      "4                2.288   33      1      274.0  \n",
      "..                 ...  ...    ...        ...  \n",
      "763              0.171   63      0      202.0  \n",
      "764              0.340   27      0      244.0  \n",
      "765              0.245   30      0      242.0  \n",
      "766              0.349   47      1      252.0  \n",
      "767              0.315   23      0      186.0  \n",
      "\n",
      "[768 rows x 10 columns]\n"
     ]
    }
   ],
   "source": [
    "# Data Transformation\n",
    "print(\"\\nData Transformation:\")\n",
    "\n",
    "# Add a new column with transformed data (e.g., adding 10% to the salary)\n",
    "df_csv['Glucose_2'] = df_csv['Glucose'] * 2.0\n",
    "\n",
    "print(\"DataFrame with transformed data:\")\n",
    "print(df_csv)"
   ]
  },
  {
   "cell_type": "markdown",
   "id": "7f7dad28-5efb-4995-bbd7-a8bac2a8a717",
   "metadata": {},
   "source": [
    "# Summary statistics"
   ]
  },
  {
   "cell_type": "code",
   "execution_count": 102,
   "id": "a2f8d38d-fc7f-489d-8937-1be91432eeb1",
   "metadata": {},
   "outputs": [
    {
     "name": "stdout",
     "output_type": "stream",
     "text": [
      "Summary Statistics:\n",
      "        Age        Salary\n",
      "count   5.0       5.00000\n",
      "mean   30.0   82000.00000\n",
      "std     5.0   71989.58258\n",
      "min    25.0   25000.00000\n",
      "25%    25.0   35000.00000\n",
      "50%    30.0   50000.00000\n",
      "75%    35.0  100000.00000\n",
      "max    35.0  200000.00000\n",
      "\n",
      "Value Counts for 'Name':\n",
      "Name\n",
      "Alice      1\n",
      "Bob        1\n",
      "Charlie    1\n",
      "Dervin     1\n",
      "Michael    1\n",
      "Name: count, dtype: int64\n"
     ]
    }
   ],
   "source": [
    "print(\"Summary Statistics:\")\n",
    "print(df.describe())  # Provides count, mean, std, min, 25%, 50%, 75%, max for numerical columns\n",
    "\n",
    "# For categorical data\n",
    "print(\"\\nValue Counts for 'Name':\")\n",
    "print(df['Name'].value_counts())  # Count of unique values in 'Name' column"
   ]
  },
  {
   "cell_type": "markdown",
   "id": "ec3813a5-ed70-4ce1-be9a-a40456c253de",
   "metadata": {},
   "source": [
    "# Grouping data "
   ]
  },
  {
   "cell_type": "code",
   "execution_count": 107,
   "id": "1d9d511f-34a9-458b-9c0f-353475e20b56",
   "metadata": {},
   "outputs": [
    {
     "name": "stdout",
     "output_type": "stream",
     "text": [
      "      Name  Age  Salary dept\n",
      "0    Alice   25  100000   IT\n",
      "1      Bob   30  200000  CSE\n",
      "2  Charlie   35   50000   IT\n",
      "3   Dervin   25   25000  CSE\n",
      "4  Michael   35   35000   IT\n",
      "\n",
      "Average Salary by Department:\n",
      "dept\n",
      "CSE    112500.000000\n",
      "IT      61666.666667\n",
      "Name: Salary, dtype: float64\n"
     ]
    }
   ],
   "source": [
    "# craeting new column of department\n",
    "df['dept']=['IT','CSE','IT','CSE','IT']\n",
    "print(df)\n",
    "# Group by 'Department' and calculate mean salary\n",
    "grouped = df.groupby('dept')['Salary'].mean()\n",
    "print(\"\\nAverage Salary by Department:\")\n",
    "print(grouped)"
   ]
  },
  {
   "cell_type": "markdown",
   "id": "f267b9da-e420-452d-809c-fadfe547aa5f",
   "metadata": {},
   "source": [
    "# merging Dataframes"
   ]
  },
  {
   "cell_type": "code",
   "execution_count": 112,
   "id": "ba4a1dc8-b87e-4550-9bcb-96c67cd35661",
   "metadata": {},
   "outputs": [
    {
     "name": "stdout",
     "output_type": "stream",
     "text": [
      "\n",
      "Merged DataFrame (inner join):\n",
      "   EmployeeID     Name  Salary\n",
      "0           2      Bob   60000\n",
      "1           3  Charlie   70000\n",
      "\n",
      "Left Join:\n",
      "   EmployeeID     Name   Salary\n",
      "0           1    Alice      NaN\n",
      "1           2      Bob  60000.0\n",
      "2           3  Charlie  70000.0\n",
      "\n",
      "Right Join:\n",
      "   EmployeeID     Name  Salary\n",
      "0           2      Bob   60000\n",
      "1           3  Charlie   70000\n",
      "2           4      NaN   80000\n",
      "\n",
      "Outer Join:\n",
      "   EmployeeID     Name   Salary\n",
      "0           1    Alice      NaN\n",
      "1           2      Bob  60000.0\n",
      "2           3  Charlie  70000.0\n",
      "3           4      NaN  80000.0\n"
     ]
    }
   ],
   "source": [
    "# Sample data\n",
    "data1 = {\n",
    "    'EmployeeID': [1, 2, 3],\n",
    "    'Name': ['Alice', 'Bob', 'Charlie']\n",
    "}\n",
    "data2 = {\n",
    "    'EmployeeID': [2, 3, 4],\n",
    "    'Salary': [60000, 70000, 80000]\n",
    "}\n",
    "df1 = pd.DataFrame(data1)\n",
    "df2 = pd.DataFrame(data2)\n",
    "# Merge on 'EmployeeID'\n",
    "merged_df = pd.merge(df1, df2, on='EmployeeID', how='inner')\n",
    "print(\"\\nMerged DataFrame (inner join):\")\n",
    "print(merged_df)\n",
    "# Different join types: left, right, outer\n",
    "print(\"\\nLeft Join:\")\n",
    "print(pd.merge(df1, df2, on='EmployeeID', how='left'))\n",
    "\n",
    "print(\"\\nRight Join:\")\n",
    "print(pd.merge(df1, df2, on='EmployeeID', how='right'))\n",
    "\n",
    "print(\"\\nOuter Join:\")\n",
    "print(pd.merge(df1, df2, on='EmployeeID', how='outer'))"
   ]
  },
  {
   "cell_type": "markdown",
   "id": "a1abe1fb-9608-47c5-92a0-d216d945e9cf",
   "metadata": {},
   "source": [
    "# Joining Dataframes"
   ]
  },
  {
   "cell_type": "code",
   "execution_count": 116,
   "id": "c0a34daf-014f-48da-8310-ab3dfe0e2b16",
   "metadata": {},
   "outputs": [
    {
     "name": "stdout",
     "output_type": "stream",
     "text": [
      "\n",
      "Joined DataFrame:\n",
      "      Name  Age  Salary\n",
      "1    Alice   25   50000\n",
      "2      Bob   30   60000\n",
      "3  Charlie   35   70000\n"
     ]
    }
   ],
   "source": [
    "data1 = {\n",
    "    'Name': ['Alice', 'Bob', 'Charlie'],\n",
    "    'Age': [25, 30, 35]\n",
    "}\n",
    "data2 = {\n",
    "    'Salary': [50000, 60000, 70000]\n",
    "}\n",
    "df1 = pd.DataFrame(data1,index=[1, 2, 3])\n",
    "df2 = pd.DataFrame(data2,index=[1, 2, 3])\n",
    "# Join DataFrames on index\n",
    "joined_df = df1.join(df2)\n",
    "print(\"\\nJoined DataFrame:\")\n",
    "print(joined_df)"
   ]
  },
  {
   "cell_type": "markdown",
   "id": "0bc53f5a-bc58-4c5f-b132-12db2f352d18",
   "metadata": {},
   "source": [
    "# concatenating dataframes"
   ]
  },
  {
   "cell_type": "code",
   "execution_count": 118,
   "id": "163becec-56b5-44f1-8b63-055e4b4fd5ee",
   "metadata": {},
   "outputs": [
    {
     "name": "stdout",
     "output_type": "stream",
     "text": [
      "\n",
      "Concatenated DataFrame (row-wise):\n",
      "      Name  Age\n",
      "0    Alice   25\n",
      "1      Bob   30\n",
      "0  Charlie   35\n",
      "1    David   40\n",
      "\n",
      "Concatenated DataFrame (column-wise):\n",
      "    Name   Age  Salary\n",
      "0  Alice  25.0   50000\n",
      "1    Bob  30.0   60000\n",
      "2    NaN   NaN   70000\n",
      "3    NaN   NaN   80000\n"
     ]
    }
   ],
   "source": [
    "# Sample data\n",
    "data1 = {\n",
    "    'Name': ['Alice', 'Bob'],\n",
    "    'Age': [25, 30]\n",
    "}\n",
    "data2 = {\n",
    "    'Name': ['Charlie', 'David'],\n",
    "    'Age': [35, 40]\n",
    "}\n",
    "\n",
    "df1 = pd.DataFrame(data1)\n",
    "df2 = pd.DataFrame(data2)\n",
    "\n",
    "# Concatenate DataFrames row-wise\n",
    "concat_df = pd.concat([df1, df2], axis=0)\n",
    "print(\"\\nConcatenated DataFrame (row-wise):\")\n",
    "print(concat_df)\n",
    "\n",
    "# Concatenate DataFrames column-wise\n",
    "data3 = {\n",
    "    'Salary': [50000, 60000, 70000, 80000]\n",
    "}\n",
    "df3 = pd.DataFrame(data3)\n",
    "concat_col_df = pd.concat([df1, df3], axis=1)\n",
    "print(\"\\nConcatenated DataFrame (column-wise):\")\n",
    "print(concat_col_df)"
   ]
  },
  {
   "cell_type": "markdown",
   "id": "1c90c9b1-c86e-40a0-b8f2-995adf48ab98",
   "metadata": {},
   "source": [
    "# Advanteages of Pandas"
   ]
  },
  {
   "cell_type": "markdown",
   "id": "9b49942d-3fb8-4f10-a9c1-f849d9d7bd00",
   "metadata": {},
   "source": [
    "Pandas is a powerful tool for data handling and analysis in Python, offering several advantages over traditional data structures:\n",
    "\n",
    ">Enhanced Data Structures: DataFrames and Series provide labeled axes and efficient data manipulation.\n",
    "\n",
    ">Performance: Fast, vectorized operations and memory efficiency compared to lists or dictionaries.\n",
    "\n",
    ">Rich Functionality: Built-in methods for data cleaning, transformation, aggregation, and analysis.\n",
    "\n",
    ">Data Manipulation: Easy merging, joining, and concatenation of datasets.\n",
    "\n",
    ">Exploratory Data Analysis (EDA): Quick computation of summary statistics and grouping for pattern analysis."
   ]
  },
  {
   "cell_type": "markdown",
   "id": "ec7d87ff-69e4-46d3-805a-0e9572522961",
   "metadata": {},
   "source": [
    "# Real world applications of pandas"
   ]
  },
  {
   "cell_type": "markdown",
   "id": "916141b1-de7e-495f-9f19-6be5f5c166dd",
   "metadata": {},
   "source": [
    ">Data Cleaning: Handling missing values in financial datasets.\n",
    "\n",
    ">Exploratory Data Analysis: Summarizing and visualizing sales data to understand trends.\n",
    "\n",
    ">Time Series Analysis: Manipulating stock price data for forecasting.\n",
    "\n",
    ">Data Integration: Combining sales, marketing, and finance data for comprehensive analysis.\n",
    "\n",
    ">Machine Learning: Preprocessing data for model training."
   ]
  }
 ],
 "metadata": {
  "kernelspec": {
   "display_name": "Python 3 (ipykernel)",
   "language": "python",
   "name": "python3"
  },
  "language_info": {
   "codemirror_mode": {
    "name": "ipython",
    "version": 3
   },
   "file_extension": ".py",
   "mimetype": "text/x-python",
   "name": "python",
   "nbconvert_exporter": "python",
   "pygments_lexer": "ipython3",
   "version": "3.12.4"
  }
 },
 "nbformat": 4,
 "nbformat_minor": 5
}
